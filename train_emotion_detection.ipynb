{
 "cells": [
  {
   "cell_type": "code",
   "execution_count": 1,
   "id": "4931aeca-513b-4da8-8ab3-162614d6c614",
   "metadata": {},
   "outputs": [
    {
     "name": "stdout",
     "output_type": "stream",
     "text": [
      "Tensorflow version: 2.16.1\n"
     ]
    }
   ],
   "source": [
    "import matplotlib.pyplot as plt\n",
    "from glob import glob\n",
    "import cv2\n",
    "import random\n",
    "import os\n",
    "%matplotlib inline\n",
    "\n",
    "from tensorflow.keras.preprocessing.image import ImageDataGenerator\n",
    "from tensorflow.keras.layers import Dense, Input, Dropout, Flatten, Conv2D\n",
    "from tensorflow.keras.layers import BatchNormalization, Activation, MaxPooling2D\n",
    "from tensorflow.keras.models import Model, Sequential\n",
    "from tensorflow.keras.optimizers import Adam\n",
    "from tensorflow.keras.callbacks import ModelCheckpoint, ReduceLROnPlateau\n",
    "from tensorflow.keras.utils import plot_model\n",
    "\n",
    "from IPython.display import SVG, Image\n",
    "import tensorflow as tf\n",
    "print(\"Tensorflow version:\", tf.__version__)"
   ]
  },
  {
   "cell_type": "code",
   "execution_count": 2,
   "id": "5b525202-a3ce-448c-803e-b3a04ab94176",
   "metadata": {},
   "outputs": [
    {
     "name": "stdout",
     "output_type": "stream",
     "text": [
      "Found 28709 images belonging to 7 classes.\n",
      "Found 7178 images belonging to 7 classes.\n"
     ]
    }
   ],
   "source": [
    "img_size = 48\n",
    "batch_size = 64\n",
    "datagen_train = ImageDataGenerator()\n",
    "train_generator = datagen_train.flow_from_directory(\"C:/Users/Anjali/Desktop/Emotion_Recognition/archive (1)/train/\",\n",
    "                                                   target_size = (img_size,img_size),\n",
    "                                                   color_mode = \"grayscale\",\n",
    "                                                   batch_size = batch_size,\n",
    "                                                   class_mode = \"categorical\",\n",
    "                                                   shuffle = True)\n",
    "\n",
    "datagen_validation = ImageDataGenerator()\n",
    "validation_generator = datagen_train.flow_from_directory(\"C:/Users/Anjali/Desktop/Emotion_Recognition/archive (1)/test/\",\n",
    "                                                   target_size = (img_size,img_size),\n",
    "                                                   color_mode = \"grayscale\",\n",
    "                                                   batch_size = batch_size,\n",
    "                                                   class_mode = \"categorical\",\n",
    "                                                   shuffle = True)"
   ]
  },
  {
   "cell_type": "code",
   "execution_count": null,
   "id": "ec7f9173-bd0d-4289-b71a-e8ef7e78cee7",
   "metadata": {},
   "outputs": [],
   "source": [
    "# create model structure"
   ]
  },
  {
   "cell_type": "code",
   "execution_count": 7,
   "id": "0dd8d5e5-598d-4d06-9a7e-5f06bf87bdb3",
   "metadata": {},
   "outputs": [],
   "source": [
    "emotion_model= Sequential()\n",
    "emotion_model.add(Conv2D(32,kernel_size=(3,3),activation='relu',input_shape=(48,48,1)))\n",
    "emotion_model.add(Conv2D(64,kernel_size=(3,3),activation='relu'))\n",
    "emotion_model.add(MaxPooling2D(pool_size = (2,2)))\n",
    "emotion_model.add(Dropout(0.25))"
   ]
  },
  {
   "cell_type": "code",
   "execution_count": 8,
   "id": "a8d13480-9fb7-4adb-a1cd-272fb2c8809c",
   "metadata": {},
   "outputs": [],
   "source": [
    "emotion_model.add(Conv2D(128,kernel_size=(3,3),activation='relu'))\n",
    "emotion_model.add(MaxPooling2D(pool_size = (2,2)))\n",
    "emotion_model.add(Conv2D(128,kernel_size=(3,3),activation='relu'))\n",
    "emotion_model.add(MaxPooling2D(pool_size = (2,2)))\n",
    "emotion_model.add(Dropout(0.25))"
   ]
  },
  {
   "cell_type": "code",
   "execution_count": 9,
   "id": "7cc6629c-8d95-4437-b3ef-737b2e833943",
   "metadata": {},
   "outputs": [],
   "source": [
    "emotion_model.add(Flatten())\n",
    "emotion_model.add(Dense(1024,activation='relu'))\n",
    "emotion_model.add(Dropout(0.25))\n",
    "emotion_model.add(Dense(7,activation='softmax'))\n",
    "\n",
    "\n"
   ]
  },
  {
   "cell_type": "code",
   "execution_count": 12,
   "id": "993ead2f-11a6-4352-8690-a412c74574b9",
   "metadata": {},
   "outputs": [],
   "source": [
    "emotion_model.compile(loss=['categorical_crossentropy'] , optimizer = Adam(learning_rate=0.0001,decay=1e-6) , metrics =[\"accuracy\"])"
   ]
  },
  {
   "cell_type": "code",
   "execution_count": null,
   "id": "dc0ba93a-d009-4f99-bb8c-4a901da60a7e",
   "metadata": {},
   "outputs": [],
   "source": [
    "# Train the neural network model"
   ]
  },
  {
   "cell_type": "code",
   "execution_count": 13,
   "id": "38a671cf-6771-4788-ad13-e707e0175ace",
   "metadata": {},
   "outputs": [
    {
     "name": "stdout",
     "output_type": "stream",
     "text": [
      "Epoch 1/50\n"
     ]
    },
    {
     "name": "stderr",
     "output_type": "stream",
     "text": [
      "C:\\Users\\Anjali\\AppData\\Roaming\\Python\\Python311\\site-packages\\keras\\src\\trainers\\data_adapters\\py_dataset_adapter.py:122: UserWarning: Your `PyDataset` class should call `super().__init__(**kwargs)` in its constructor. `**kwargs` can include `workers`, `use_multiprocessing`, `max_queue_size`. Do not pass these arguments to `fit()`, as they will be ignored.\n",
      "  self._warn_if_super_not_called()\n"
     ]
    },
    {
     "name": "stdout",
     "output_type": "stream",
     "text": [
      "\u001b[1m448/448\u001b[0m \u001b[32m━━━━━━━━━━━━━━━━━━━━\u001b[0m\u001b[37m\u001b[0m \u001b[1m630s\u001b[0m 1s/step - accuracy: 0.1901 - loss: 4.2384 - val_accuracy: 0.2535 - val_loss: 1.8190\n",
      "Epoch 2/50\n",
      "\u001b[1m  1/448\u001b[0m \u001b[37m━━━━━━━━━━━━━━━━━━━━\u001b[0m \u001b[1m4:04\u001b[0m 548ms/step - accuracy: 0.2188 - loss: 1.8029"
     ]
    },
    {
     "name": "stderr",
     "output_type": "stream",
     "text": [
      "C:\\Users\\Anjali\\anaconda3\\Anjali1\\Lib\\contextlib.py:158: UserWarning: Your input ran out of data; interrupting training. Make sure that your dataset or generator can generate at least `steps_per_epoch * epochs` batches. You may need to use the `.repeat()` function when building your dataset.\n",
      "  self.gen.throw(typ, value, traceback)\n"
     ]
    },
    {
     "name": "stdout",
     "output_type": "stream",
     "text": [
      "\u001b[1m448/448\u001b[0m \u001b[32m━━━━━━━━━━━━━━━━━━━━\u001b[0m\u001b[37m\u001b[0m \u001b[1m14s\u001b[0m 30ms/step - accuracy: 0.2188 - loss: 0.9035 - val_accuracy: 0.4000 - val_loss: 0.8431\n",
      "Epoch 3/50\n",
      "\u001b[1m448/448\u001b[0m \u001b[32m━━━━━━━━━━━━━━━━━━━━\u001b[0m\u001b[37m\u001b[0m \u001b[1m270s\u001b[0m 602ms/step - accuracy: 0.2556 - loss: 1.8151 - val_accuracy: 0.2984 - val_loss: 1.7704\n",
      "Epoch 4/50\n",
      "\u001b[1m448/448\u001b[0m \u001b[32m━━━━━━━━━━━━━━━━━━━━\u001b[0m\u001b[37m\u001b[0m \u001b[1m1s\u001b[0m 134us/step - accuracy: 0.2031 - loss: 0.9294 - val_accuracy: 0.1000 - val_loss: 0.9803\n",
      "Epoch 5/50\n",
      "\u001b[1m448/448\u001b[0m \u001b[32m━━━━━━━━━━━━━━━━━━━━\u001b[0m\u001b[37m\u001b[0m \u001b[1m271s\u001b[0m 604ms/step - accuracy: 0.3003 - loss: 1.7492 - val_accuracy: 0.3451 - val_loss: 1.7023\n",
      "Epoch 6/50\n",
      "\u001b[1m448/448\u001b[0m \u001b[32m━━━━━━━━━━━━━━━━━━━━\u001b[0m\u001b[37m\u001b[0m \u001b[1m1s\u001b[0m 155us/step - accuracy: 0.3281 - loss: 0.8341 - val_accuracy: 0.4000 - val_loss: 0.8591\n",
      "Epoch 7/50\n",
      "\u001b[1m448/448\u001b[0m \u001b[32m━━━━━━━━━━━━━━━━━━━━\u001b[0m\u001b[37m\u001b[0m \u001b[1m271s\u001b[0m 604ms/step - accuracy: 0.3187 - loss: 1.7063 - val_accuracy: 0.3855 - val_loss: 1.6099\n",
      "Epoch 8/50\n",
      "\u001b[1m448/448\u001b[0m \u001b[32m━━━━━━━━━━━━━━━━━━━━\u001b[0m\u001b[37m\u001b[0m \u001b[1m1s\u001b[0m 141us/step - accuracy: 0.3438 - loss: 0.9011 - val_accuracy: 0.4000 - val_loss: 0.8233\n",
      "Epoch 9/50\n",
      "\u001b[1m448/448\u001b[0m \u001b[32m━━━━━━━━━━━━━━━━━━━━\u001b[0m\u001b[37m\u001b[0m \u001b[1m265s\u001b[0m 592ms/step - accuracy: 0.3572 - loss: 1.6394 - val_accuracy: 0.4194 - val_loss: 1.5160\n",
      "Epoch 10/50\n",
      "\u001b[1m448/448\u001b[0m \u001b[32m━━━━━━━━━━━━━━━━━━━━\u001b[0m\u001b[37m\u001b[0m \u001b[1m0s\u001b[0m 121us/step - accuracy: 0.4688 - loss: 0.7159 - val_accuracy: 0.2000 - val_loss: 0.8447\n",
      "Epoch 11/50\n",
      "\u001b[1m448/448\u001b[0m \u001b[32m━━━━━━━━━━━━━━━━━━━━\u001b[0m\u001b[37m\u001b[0m \u001b[1m268s\u001b[0m 599ms/step - accuracy: 0.3998 - loss: 1.5428 - val_accuracy: 0.4554 - val_loss: 1.4288\n",
      "Epoch 12/50\n",
      "\u001b[1m448/448\u001b[0m \u001b[32m━━━━━━━━━━━━━━━━━━━━\u001b[0m\u001b[37m\u001b[0m \u001b[1m1s\u001b[0m 198us/step - accuracy: 0.4531 - loss: 0.6633 - val_accuracy: 0.3000 - val_loss: 0.7859\n",
      "Epoch 13/50\n",
      "\u001b[1m448/448\u001b[0m \u001b[32m━━━━━━━━━━━━━━━━━━━━\u001b[0m\u001b[37m\u001b[0m \u001b[1m269s\u001b[0m 601ms/step - accuracy: 0.4473 - loss: 1.4494 - val_accuracy: 0.4785 - val_loss: 1.3607\n",
      "Epoch 14/50\n",
      "\u001b[1m448/448\u001b[0m \u001b[32m━━━━━━━━━━━━━━━━━━━━\u001b[0m\u001b[37m\u001b[0m \u001b[1m1s\u001b[0m 178us/step - accuracy: 0.4844 - loss: 0.7848 - val_accuracy: 0.2000 - val_loss: 0.7999\n",
      "Epoch 15/50\n",
      "\u001b[1m448/448\u001b[0m \u001b[32m━━━━━━━━━━━━━━━━━━━━\u001b[0m\u001b[37m\u001b[0m \u001b[1m269s\u001b[0m 599ms/step - accuracy: 0.4693 - loss: 1.3895 - val_accuracy: 0.5025 - val_loss: 1.3253\n",
      "Epoch 16/50\n",
      "\u001b[1m448/448\u001b[0m \u001b[32m━━━━━━━━━━━━━━━━━━━━\u001b[0m\u001b[37m\u001b[0m \u001b[1m1s\u001b[0m 142us/step - accuracy: 0.3438 - loss: 0.8871 - val_accuracy: 0.3000 - val_loss: 0.7310\n",
      "Epoch 17/50\n",
      "\u001b[1m448/448\u001b[0m \u001b[32m━━━━━━━━━━━━━━━━━━━━\u001b[0m\u001b[37m\u001b[0m \u001b[1m406s\u001b[0m 906ms/step - accuracy: 0.4922 - loss: 1.3425 - val_accuracy: 0.5100 - val_loss: 1.2861\n",
      "Epoch 18/50\n",
      "\u001b[1m448/448\u001b[0m \u001b[32m━━━━━━━━━━━━━━━━━━━━\u001b[0m\u001b[37m\u001b[0m \u001b[1m1s\u001b[0m 137us/step - accuracy: 0.4531 - loss: 0.7004 - val_accuracy: 0.4000 - val_loss: 0.6829\n",
      "Epoch 19/50\n",
      "\u001b[1m448/448\u001b[0m \u001b[32m━━━━━━━━━━━━━━━━━━━━\u001b[0m\u001b[37m\u001b[0m \u001b[1m270s\u001b[0m 601ms/step - accuracy: 0.5148 - loss: 1.2988 - val_accuracy: 0.5264 - val_loss: 1.2590\n",
      "Epoch 20/50\n",
      "\u001b[1m448/448\u001b[0m \u001b[32m━━━━━━━━━━━━━━━━━━━━\u001b[0m\u001b[37m\u001b[0m \u001b[1m1s\u001b[0m 211us/step - accuracy: 0.5469 - loss: 0.6024 - val_accuracy: 0.4000 - val_loss: 0.5223\n",
      "Epoch 21/50\n",
      "\u001b[1m448/448\u001b[0m \u001b[32m━━━━━━━━━━━━━━━━━━━━\u001b[0m\u001b[37m\u001b[0m \u001b[1m270s\u001b[0m 602ms/step - accuracy: 0.5279 - loss: 1.2470 - val_accuracy: 0.5432 - val_loss: 1.2252\n",
      "Epoch 22/50\n",
      "\u001b[1m448/448\u001b[0m \u001b[32m━━━━━━━━━━━━━━━━━━━━\u001b[0m\u001b[37m\u001b[0m \u001b[1m1s\u001b[0m 206us/step - accuracy: 0.5156 - loss: 0.6039 - val_accuracy: 0.5000 - val_loss: 0.5879\n",
      "Epoch 23/50\n",
      "\u001b[1m448/448\u001b[0m \u001b[32m━━━━━━━━━━━━━━━━━━━━\u001b[0m\u001b[37m\u001b[0m \u001b[1m270s\u001b[0m 602ms/step - accuracy: 0.5517 - loss: 1.1989 - val_accuracy: 0.5444 - val_loss: 1.2190\n",
      "Epoch 24/50\n",
      "\u001b[1m448/448\u001b[0m \u001b[32m━━━━━━━━━━━━━━━━━━━━\u001b[0m\u001b[37m\u001b[0m \u001b[1m1s\u001b[0m 211us/step - accuracy: 0.5469 - loss: 0.6014 - val_accuracy: 0.6000 - val_loss: 0.5418\n",
      "Epoch 25/50\n",
      "\u001b[1m448/448\u001b[0m \u001b[32m━━━━━━━━━━━━━━━━━━━━\u001b[0m\u001b[37m\u001b[0m \u001b[1m271s\u001b[0m 603ms/step - accuracy: 0.5701 - loss: 1.1547 - val_accuracy: 0.5568 - val_loss: 1.1915\n",
      "Epoch 26/50\n",
      "\u001b[1m448/448\u001b[0m \u001b[32m━━━━━━━━━━━━━━━━━━━━\u001b[0m\u001b[37m\u001b[0m \u001b[1m1s\u001b[0m 163us/step - accuracy: 0.6094 - loss: 0.5427 - val_accuracy: 0.6000 - val_loss: 0.4695\n",
      "Epoch 27/50\n",
      "\u001b[1m448/448\u001b[0m \u001b[32m━━━━━━━━━━━━━━━━━━━━\u001b[0m\u001b[37m\u001b[0m \u001b[1m270s\u001b[0m 602ms/step - accuracy: 0.5870 - loss: 1.1065 - val_accuracy: 0.5607 - val_loss: 1.1583\n",
      "Epoch 28/50\n",
      "\u001b[1m448/448\u001b[0m \u001b[32m━━━━━━━━━━━━━━━━━━━━\u001b[0m\u001b[37m\u001b[0m \u001b[1m1s\u001b[0m 258us/step - accuracy: 0.5469 - loss: 0.5523 - val_accuracy: 0.4000 - val_loss: 0.8411\n",
      "Epoch 29/50\n",
      "\u001b[1m448/448\u001b[0m \u001b[32m━━━━━━━━━━━━━━━━━━━━\u001b[0m\u001b[37m\u001b[0m \u001b[1m269s\u001b[0m 600ms/step - accuracy: 0.6076 - loss: 1.0508 - val_accuracy: 0.5767 - val_loss: 1.1407\n",
      "Epoch 30/50\n",
      "\u001b[1m448/448\u001b[0m \u001b[32m━━━━━━━━━━━━━━━━━━━━\u001b[0m\u001b[37m\u001b[0m \u001b[1m1s\u001b[0m 239us/step - accuracy: 0.5781 - loss: 0.5331 - val_accuracy: 0.5000 - val_loss: 0.5537\n",
      "Epoch 31/50\n",
      "\u001b[1m448/448\u001b[0m \u001b[32m━━━━━━━━━━━━━━━━━━━━\u001b[0m\u001b[37m\u001b[0m \u001b[1m270s\u001b[0m 603ms/step - accuracy: 0.6262 - loss: 1.0111 - val_accuracy: 0.5758 - val_loss: 1.1334\n",
      "Epoch 32/50\n",
      "\u001b[1m448/448\u001b[0m \u001b[32m━━━━━━━━━━━━━━━━━━━━\u001b[0m\u001b[37m\u001b[0m \u001b[1m1s\u001b[0m 246us/step - accuracy: 0.6250 - loss: 0.5160 - val_accuracy: 0.9000 - val_loss: 0.3743\n",
      "Epoch 33/50\n",
      "\u001b[1m448/448\u001b[0m \u001b[32m━━━━━━━━━━━━━━━━━━━━\u001b[0m\u001b[37m\u001b[0m \u001b[1m268s\u001b[0m 598ms/step - accuracy: 0.6388 - loss: 0.9748 - val_accuracy: 0.5806 - val_loss: 1.1278\n",
      "Epoch 34/50\n",
      "\u001b[1m448/448\u001b[0m \u001b[32m━━━━━━━━━━━━━━━━━━━━\u001b[0m\u001b[37m\u001b[0m \u001b[1m1s\u001b[0m 228us/step - accuracy: 0.6250 - loss: 0.4991 - val_accuracy: 0.4000 - val_loss: 0.7666\n",
      "Epoch 35/50\n",
      "\u001b[1m448/448\u001b[0m \u001b[32m━━━━━━━━━━━━━━━━━━━━\u001b[0m\u001b[37m\u001b[0m \u001b[1m269s\u001b[0m 600ms/step - accuracy: 0.6564 - loss: 0.9262 - val_accuracy: 0.5905 - val_loss: 1.1134\n",
      "Epoch 36/50\n",
      "\u001b[1m448/448\u001b[0m \u001b[32m━━━━━━━━━━━━━━━━━━━━\u001b[0m\u001b[37m\u001b[0m \u001b[1m1s\u001b[0m 220us/step - accuracy: 0.5469 - loss: 0.5134 - val_accuracy: 0.5000 - val_loss: 0.4661\n",
      "Epoch 37/50\n",
      "\u001b[1m448/448\u001b[0m \u001b[32m━━━━━━━━━━━━━━━━━━━━\u001b[0m\u001b[37m\u001b[0m \u001b[1m1282s\u001b[0m 3s/step - accuracy: 0.6711 - loss: 0.8842 - val_accuracy: 0.5950 - val_loss: 1.1076\n",
      "Epoch 38/50\n",
      "\u001b[1m448/448\u001b[0m \u001b[32m━━━━━━━━━━━━━━━━━━━━\u001b[0m\u001b[37m\u001b[0m \u001b[1m1s\u001b[0m 218us/step - accuracy: 0.6406 - loss: 0.4696 - val_accuracy: 0.3000 - val_loss: 1.0623\n",
      "Epoch 39/50\n",
      "\u001b[1m448/448\u001b[0m \u001b[32m━━━━━━━━━━━━━━━━━━━━\u001b[0m\u001b[37m\u001b[0m \u001b[1m1337s\u001b[0m 3s/step - accuracy: 0.6919 - loss: 0.8333 - val_accuracy: 0.5938 - val_loss: 1.1218\n",
      "Epoch 40/50\n",
      "\u001b[1m448/448\u001b[0m \u001b[32m━━━━━━━━━━━━━━━━━━━━\u001b[0m\u001b[37m\u001b[0m \u001b[1m1s\u001b[0m 209us/step - accuracy: 0.7656 - loss: 0.3974 - val_accuracy: 0.5000 - val_loss: 0.6261\n",
      "Epoch 41/50\n",
      "\u001b[1m448/448\u001b[0m \u001b[32m━━━━━━━━━━━━━━━━━━━━\u001b[0m\u001b[37m\u001b[0m \u001b[1m274s\u001b[0m 611ms/step - accuracy: 0.7162 - loss: 0.7754 - val_accuracy: 0.6027 - val_loss: 1.1109\n",
      "Epoch 42/50\n",
      "\u001b[1m448/448\u001b[0m \u001b[32m━━━━━━━━━━━━━━━━━━━━\u001b[0m\u001b[37m\u001b[0m \u001b[1m1s\u001b[0m 264us/step - accuracy: 0.6562 - loss: 0.3849 - val_accuracy: 0.3000 - val_loss: 0.6585\n",
      "Epoch 43/50\n",
      "\u001b[1m448/448\u001b[0m \u001b[32m━━━━━━━━━━━━━━━━━━━━\u001b[0m\u001b[37m\u001b[0m \u001b[1m295s\u001b[0m 657ms/step - accuracy: 0.7238 - loss: 0.7536 - val_accuracy: 0.6067 - val_loss: 1.1050\n",
      "Epoch 44/50\n",
      "\u001b[1m448/448\u001b[0m \u001b[32m━━━━━━━━━━━━━━━━━━━━\u001b[0m\u001b[37m\u001b[0m \u001b[1m1s\u001b[0m 232us/step - accuracy: 0.6719 - loss: 0.3835 - val_accuracy: 0.6000 - val_loss: 0.6771\n",
      "Epoch 45/50\n",
      "\u001b[1m448/448\u001b[0m \u001b[32m━━━━━━━━━━━━━━━━━━━━\u001b[0m\u001b[37m\u001b[0m \u001b[1m291s\u001b[0m 650ms/step - accuracy: 0.7464 - loss: 0.6950 - val_accuracy: 0.6009 - val_loss: 1.1240\n",
      "Epoch 46/50\n",
      "\u001b[1m448/448\u001b[0m \u001b[32m━━━━━━━━━━━━━━━━━━━━\u001b[0m\u001b[37m\u001b[0m \u001b[1m1s\u001b[0m 242us/step - accuracy: 0.7344 - loss: 0.3620 - val_accuracy: 0.4000 - val_loss: 0.6446\n",
      "Epoch 47/50\n",
      "\u001b[1m448/448\u001b[0m \u001b[32m━━━━━━━━━━━━━━━━━━━━\u001b[0m\u001b[37m\u001b[0m \u001b[1m269s\u001b[0m 600ms/step - accuracy: 0.7540 - loss: 0.6664 - val_accuracy: 0.6080 - val_loss: 1.1199\n",
      "Epoch 48/50\n",
      "\u001b[1m448/448\u001b[0m \u001b[32m━━━━━━━━━━━━━━━━━━━━\u001b[0m\u001b[37m\u001b[0m \u001b[1m1s\u001b[0m 159us/step - accuracy: 0.7969 - loss: 0.2529 - val_accuracy: 0.7000 - val_loss: 0.3233\n",
      "Epoch 49/50\n",
      "\u001b[1m448/448\u001b[0m \u001b[32m━━━━━━━━━━━━━━━━━━━━\u001b[0m\u001b[37m\u001b[0m \u001b[1m273s\u001b[0m 609ms/step - accuracy: 0.7740 - loss: 0.6191 - val_accuracy: 0.6117 - val_loss: 1.1355\n",
      "Epoch 50/50\n",
      "\u001b[1m448/448\u001b[0m \u001b[32m━━━━━━━━━━━━━━━━━━━━\u001b[0m\u001b[37m\u001b[0m \u001b[1m1s\u001b[0m 204us/step - accuracy: 0.8438 - loss: 0.2043 - val_accuracy: 0.3000 - val_loss: 0.8020\n"
     ]
    }
   ],
   "source": [
    "emotion_model_info=emotion_model.fit(train_generator,\n",
    "steps_per_epoch = 28709// 64,\n",
    "epochs = 50,\n",
    "validation_data = validation_generator,\n",
    "validation_steps = 7178// 64)\n"
   ]
  },
  {
   "cell_type": "code",
   "execution_count": null,
   "id": "d529764b-395a-4425-b0ae-ce1e00a7c41f",
   "metadata": {},
   "outputs": [],
   "source": [
    "# save model structure in dataset"
   ]
  },
  {
   "cell_type": "code",
   "execution_count": 14,
   "id": "c30bd35c-7601-46e1-865f-052e5a5f810c",
   "metadata": {},
   "outputs": [],
   "source": [
    "model_json=emotion_model.to_json()\n",
    "with open('emotion_model.json','w') as json_file:\n",
    "    json_file.write(model_json)"
   ]
  },
  {
   "cell_type": "code",
   "execution_count": 15,
   "id": "d0657dc4-f48b-4d07-accd-82ca668f3877",
   "metadata": {},
   "outputs": [],
   "source": [
    "# save the trained model weight in h5 file"
   ]
  },
  {
   "cell_type": "code",
   "execution_count": 18,
   "id": "60c621cf-7f8c-4e04-a052-fff67bd5335d",
   "metadata": {},
   "outputs": [],
   "source": [
    "emotion_model.save_weights('emotion_model.weights.h5')"
   ]
  },
  {
   "cell_type": "code",
   "execution_count": null,
   "id": "75ce5fb9-0b98-4ae0-aec0-726ba42f08ff",
   "metadata": {},
   "outputs": [],
   "source": []
  },
  {
   "cell_type": "code",
   "execution_count": null,
   "id": "14b62f0d-35bb-4540-b534-68aaf25ffd6f",
   "metadata": {},
   "outputs": [],
   "source": []
  },
  {
   "cell_type": "code",
   "execution_count": null,
   "id": "b5bb3470-fff2-42b3-9167-01f7f286ddd5",
   "metadata": {},
   "outputs": [],
   "source": []
  },
  {
   "cell_type": "code",
   "execution_count": null,
   "id": "4dfd7cd1-fd37-415a-8ecd-9008768b6eb5",
   "metadata": {},
   "outputs": [],
   "source": []
  },
  {
   "cell_type": "code",
   "execution_count": null,
   "id": "dafd5183-4d0b-482f-a86b-74ea74c7b0cf",
   "metadata": {},
   "outputs": [],
   "source": []
  },
  {
   "cell_type": "code",
   "execution_count": null,
   "id": "f8c29639-3670-423f-bed9-306823563028",
   "metadata": {},
   "outputs": [],
   "source": []
  }
 ],
 "metadata": {
  "kernelspec": {
   "display_name": "Python 3 (ipykernel)",
   "language": "python",
   "name": "python3"
  },
  "language_info": {
   "codemirror_mode": {
    "name": "ipython",
    "version": 3
   },
   "file_extension": ".py",
   "mimetype": "text/x-python",
   "name": "python",
   "nbconvert_exporter": "python",
   "pygments_lexer": "ipython3",
   "version": "3.11.7"
  }
 },
 "nbformat": 4,
 "nbformat_minor": 5
}
